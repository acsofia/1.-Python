{
 "cells": [
  {
   "cell_type": "code",
   "execution_count": 2,
   "id": "6da5defe",
   "metadata": {},
   "outputs": [
    {
     "name": "stdout",
     "output_type": "stream",
     "text": [
      "Value:10\n",
      "correct\n"
     ]
    }
   ],
   "source": [
    "i=int(input(\"Value:\"))\n",
    "if(i==10):\n",
    "    print(\"correct\")"
   ]
  },
  {
   "cell_type": "code",
   "execution_count": 7,
   "id": "d723f790",
   "metadata": {},
   "outputs": [
    {
     "name": "stdout",
     "output_type": "stream",
     "text": [
      "Enter the password:HOPE@123\n",
      "your password is correct\n"
     ]
    }
   ],
   "source": [
    "pwd=input(\"Enter the password:\")\n",
    "if (pwd==\"HOPE@123\"):\n",
    "    print(\"your password is correct\")\n",
    "else:\n",
    "    print(\"your password is wrong\")"
   ]
  },
  {
   "cell_type": "code",
   "execution_count": 11,
   "id": "e3cfe1ac",
   "metadata": {},
   "outputs": [
    {
     "name": "stdout",
     "output_type": "stream",
     "text": [
      "age:20\n",
      "Adult\n"
     ]
    }
   ],
   "source": [
    "age=int(input(\"age:\"))\n",
    "if(age==20):\n",
    "    print(\"Adult\")\n",
    "else:\n",
    "    print(\"Senior Citizen\")"
   ]
  },
  {
   "cell_type": "code",
   "execution_count": 14,
   "id": "68d54780",
   "metadata": {},
   "outputs": [
    {
     "name": "stdout",
     "output_type": "stream",
     "text": [
      "Enter any number:1\n",
      "No is positive\n"
     ]
    }
   ],
   "source": [
    "num=int(input(\"Enter any number:\"))\n",
    "if (num<0):\n",
    "    print(\"No is negative\")\n",
    "else:\n",
    "    print(\"No is positive\")"
   ]
  },
  {
   "cell_type": "code",
   "execution_count": 17,
   "id": "f89a62bd",
   "metadata": {},
   "outputs": [
    {
     "name": "stdout",
     "output_type": "stream",
     "text": [
      "Enter a number to check:22\n",
      "No is not divisible by 5\n"
     ]
    }
   ],
   "source": [
    "num=int(input(\"Enter a number to check:\"))\n",
    "if(num%5==0):\n",
    "    print(\"No is divisible by 5\")\n",
    "else:\n",
    "    print(\"No is not divisible by 5\")"
   ]
  },
  {
   "cell_type": "code",
   "execution_count": null,
   "id": "8db974f3",
   "metadata": {},
   "outputs": [],
   "source": []
  }
 ],
 "metadata": {
  "kernelspec": {
   "display_name": "Python 3 (ipykernel)",
   "language": "python",
   "name": "python3"
  },
  "language_info": {
   "codemirror_mode": {
    "name": "ipython",
    "version": 3
   },
   "file_extension": ".py",
   "mimetype": "text/x-python",
   "name": "python",
   "nbconvert_exporter": "python",
   "pygments_lexer": "ipython3",
   "version": "3.11.4"
  }
 },
 "nbformat": 4,
 "nbformat_minor": 5
}
