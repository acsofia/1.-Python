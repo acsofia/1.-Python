{
 "cells": [
  {
   "cell_type": "code",
   "execution_count": 3,
   "id": "80a277b0",
   "metadata": {},
   "outputs": [],
   "source": [
    "class OddEven():\n",
    "    def OddEven():\n",
    "        num=int(input(\"Enter a number:\"))\n",
    "        message=\"OddEven\"\n",
    "        if (num%2==0):\n",
    "            print(num, \"is Even number\")\n",
    "            message=num ,\"is Even number\"\n",
    "        else:\n",
    "            print(num, \"is Odd number\")\n",
    "            message=num, \"is Odd number\"\n",
    "        return message"
   ]
  },
  {
   "cell_type": "code",
   "execution_count": 4,
   "id": "85c4d26a",
   "metadata": {},
   "outputs": [
    {
     "name": "stdout",
     "output_type": "stream",
     "text": [
      "Enter a number:52452\n",
      "52452 is Even number\n"
     ]
    },
    {
     "data": {
      "text/plain": [
       "(52452, 'is Even number')"
      ]
     },
     "execution_count": 4,
     "metadata": {},
     "output_type": "execute_result"
    }
   ],
   "source": [
    "OddEven.OddEven()"
   ]
  },
  {
   "cell_type": "code",
   "execution_count": 5,
   "id": "0c518dfc",
   "metadata": {},
   "outputs": [],
   "source": [
    "class EligibilityforMarriage():\n",
    "    def Eligible():\n",
    "        gender=input(\"Your Gender:\")\n",
    "        age=int(input(\"Your age:\"))\n",
    "        message=\"Eligible\"\n",
    "        if(gender==\"Male\"):\n",
    "            if(age>=21):\n",
    "                print(\"Eligible\")\n",
    "                message=\"Eligible\"\n",
    "            else:\n",
    "                print(\"NOT ELIGIBLE\")\n",
    "                message=\"NOT ELIGIBLE\"\n",
    "        elif(gender==\"Female\"):\n",
    "            if(age>=18):\n",
    "                print(\"Eligible\")\n",
    "                message=\"Eligible\"\n",
    "            else:\n",
    "                print(\"NOT ELIGIBLE\")\n",
    "                message=\"NOT ELIGIBLE\"\n",
    "        else:\n",
    "            print(\"NOT ELIGIBLE FOR MARRIAGE\")\n",
    "            message=\"NOT ELIGIBLE FOR MARRIAGE\"\n",
    "        return message"
   ]
  },
  {
   "cell_type": "code",
   "execution_count": 6,
   "id": "5672fb57",
   "metadata": {},
   "outputs": [
    {
     "name": "stdout",
     "output_type": "stream",
     "text": [
      "Your Gender:Male\n",
      "Your age:20\n",
      "NOT ELIGIBLE\n"
     ]
    },
    {
     "data": {
      "text/plain": [
       "'NOT ELIGIBLE'"
      ]
     },
     "execution_count": 6,
     "metadata": {},
     "output_type": "execute_result"
    }
   ],
   "source": [
    "EligibilityforMarriage.Eligible()"
   ]
  },
  {
   "cell_type": "code",
   "execution_count": 7,
   "id": "b5062206",
   "metadata": {},
   "outputs": [],
   "source": [
    "class FindPercent():\n",
    "    def percentage():\n",
    "        sub1=int(input(\"Subject1 =\"))\n",
    "        sub2=int(input(\"Subject2 =\"))\n",
    "        sub3=int(input(\"Subject3 =\"))\n",
    "        sub4=int(input(\"Subject4 =\"))\n",
    "        sub5=int(input(\"Subject5 =\"))\n",
    "        tot=sub1+sub2+sub3+sub4+sub5\n",
    "        print(\"Total:\", tot)\n",
    "        percent=round((float(tot/5)))\n",
    "        print(\"Percentage: {:.15f}\".format(percent))"
   ]
  },
  {
   "cell_type": "code",
   "execution_count": 8,
   "id": "b66af9bd",
   "metadata": {},
   "outputs": [
    {
     "name": "stdout",
     "output_type": "stream",
     "text": [
      "Subject1 =98\n",
      "Subject2 =87\n",
      "Subject3 =95\n",
      "Subject4 =95\n",
      "Subject5 =93\n",
      "Total: 468\n",
      "Percentage: 94.000000000000000\n"
     ]
    }
   ],
   "source": [
    "FindPercent.percentage()"
   ]
  },
  {
   "cell_type": "code",
   "execution_count": 9,
   "id": "4ec6fed1",
   "metadata": {},
   "outputs": [],
   "source": [
    "class triangle():\n",
    "    def triangle():\n",
    "        height=int(input(\"Height:\"))\n",
    "        breadth=int(input(\"Breadth:\"))\n",
    "        area=(height*breadth)/2\n",
    "        print(\"Area Formula: (Height*Breadth)/2\")\n",
    "        print(\"Area of Triangle:\", area)\n",
    "        #message=\"Area of Triangle\"\n",
    "        #return message\n",
    "        height1=int(input(\"Height1:\"))\n",
    "        height2=int(input(\"Height2:\"))\n",
    "        breadth1=int(input(\"Breadth:\"))\n",
    "        perimeter=height1+height2+breadth1\n",
    "        print(\"Perimeter formula: Height1+Height2+Breadth\")\n",
    "        print(\"Perimeter of Triangle:\", perimeter)"
   ]
  },
  {
   "cell_type": "code",
   "execution_count": 10,
   "id": "e39f64f2",
   "metadata": {},
   "outputs": [
    {
     "name": "stdout",
     "output_type": "stream",
     "text": [
      "Height:32\n",
      "Breadth:34\n",
      "Area Formula: (Height*Breadth)/2\n",
      "Area of Triangle: 544.0\n",
      "Height1:2\n",
      "Height2:4\n",
      "Breadth:4\n",
      "Perimeter formula: Height1+Height2+Breadth\n",
      "Perimeter of Triangle: 10\n"
     ]
    }
   ],
   "source": [
    "triangle.triangle()"
   ]
  },
  {
   "cell_type": "code",
   "execution_count": 11,
   "id": "00891c15",
   "metadata": {},
   "outputs": [],
   "source": [
    "class SubfieldsInAI():\n",
    "    def subfields():\n",
    "        AI=[\"Machine Learning\",\"Neural Networks\",\"Vision\",\"Robotics\",\"Speech Processing\",\"Natural Language Processing\"]\n",
    "        print(\"Subfields in AI are:\")\n",
    "        for subfields in AI:\n",
    "            print(subfields)"
   ]
  },
  {
   "cell_type": "code",
   "execution_count": 12,
   "id": "5e241f06",
   "metadata": {},
   "outputs": [
    {
     "name": "stdout",
     "output_type": "stream",
     "text": [
      "Subfields in AI are:\n",
      "Machine Learning\n",
      "Neural Networks\n",
      "Vision\n",
      "Robotics\n",
      "Speech Processing\n",
      "Natural Language Processing\n"
     ]
    }
   ],
   "source": [
    "SubfieldsInAI.subfields()"
   ]
  },
  {
   "cell_type": "code",
   "execution_count": null,
   "id": "7abf3676",
   "metadata": {},
   "outputs": [],
   "source": []
  }
 ],
 "metadata": {
  "kernelspec": {
   "display_name": "Python 3 (ipykernel)",
   "language": "python",
   "name": "python3"
  },
  "language_info": {
   "codemirror_mode": {
    "name": "ipython",
    "version": 3
   },
   "file_extension": ".py",
   "mimetype": "text/x-python",
   "name": "python",
   "nbconvert_exporter": "python",
   "pygments_lexer": "ipython3",
   "version": "3.11.4"
  }
 },
 "nbformat": 4,
 "nbformat_minor": 5
}
